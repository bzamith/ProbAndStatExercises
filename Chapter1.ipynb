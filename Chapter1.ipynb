{
 "cells": [
  {
   "cell_type": "markdown",
   "id": "fc181061-2260-405c-97a4-648503e945d7",
   "metadata": {},
   "source": [
    "# Chapter 1 - Introduction to Exploratory Data Analysis"
   ]
  },
  {
   "cell_type": "code",
   "execution_count": 1,
   "id": "d378b826-7332-4bd7-8643-0f6f85974795",
   "metadata": {},
   "outputs": [],
   "source": [
    "%%capture\n",
    "!pip3 install matplotlib==3.8.2 numpy==1.26.3 pandas==2.2.0 pyarrow==15.0.0"
   ]
  },
  {
   "cell_type": "code",
   "execution_count": 2,
   "id": "a6baf82c-e0ab-4d40-b664-37c164630aea",
   "metadata": {},
   "outputs": [],
   "source": [
    "from IPython.display import display\n",
    "import matplotlib.pyplot as plt\n",
    "import numpy as np\n",
    "import pandas as pd"
   ]
  },
  {
   "cell_type": "code",
   "execution_count": 3,
   "id": "37c16f8b-f060-4599-9361-afeb58b24ede",
   "metadata": {},
   "outputs": [],
   "source": [
    "def get_frequency_table(column, sort=False):\n",
    "    count = column.value_counts()\n",
    "    if sort:\n",
    "        count = count.sort_index()\n",
    "    frequency_table = pd.DataFrame({'value': count.index, 'count': count.values})\n",
    "    frequency_table['freq'] = [None] * len(frequency_table)\n",
    "    frequency_table['freq_acc'] = [None] * len(frequency_table)\n",
    "    \n",
    "    total = frequency_table['count'].sum()\n",
    "    \n",
    "    for i, row in frequency_table.iterrows():\n",
    "        freq = round(row['count'] / total, 2)\n",
    "        prev_freq_acc = 0 if i == 0 else frequency_table.at[i-1, 'freq_acc']\n",
    "        frequency_table.at[i, 'freq'] = freq\n",
    "        frequency_table.at[i, 'freq_acc'] = freq + prev_freq_acc\n",
    "    return frequency_table\n",
    "\n",
    "def plot_histogram(column, bin_edges=None):\n",
    "    plt.figure(figsize=(4, 4))\n",
    "    if not bin_edges:\n",
    "        bin_edges = list(range(int(column.min()) - 1, int(column.max()) + 2))\n",
    "    plt.hist(column, density=True, bins=bin_edges, edgecolor='black')\n",
    "    plt.show()\n",
    "\n",
    "def plot_pie(frequency_table, column_name):\n",
    "    plt.figure(figsize=(4, 4))\n",
    "    frequency_table = frequency_table.set_index(\"value\")\n",
    "    frequency_table[\"count\"].plot.pie(autopct='%1.1f%%', startangle=90)\n",
    "    plt.show()\n",
    "\n",
    "def plot_boxplot(column):\n",
    "    plt.figure(figsize=(4, 4))\n",
    "    column.plot.box()\n",
    "    plt.title('Boxplot')\n",
    "    plt.show()"
   ]
  },
  {
   "cell_type": "markdown",
   "id": "bcd4c844-cd35-431b-a2a1-e0617ebd35bd",
   "metadata": {},
   "source": [
    "## Section 1.1 - What is Statistics?"
   ]
  },
  {
   "cell_type": "markdown",
   "id": "fe270747-7f19-4631-afa9-1f2f1ca6ddcd",
   "metadata": {},
   "source": [
    "### Q1. Classify as true or false each of the following statements:\n",
    "**a. Statistics is a set of techniques used to organize a set of numerical values.**\n",
    "> FALSE. Statistics handles more than numeric values, such as categorical ones. Also, it not only organizes but also makes inferences and performs more complex tasks.\n",
    "\n",
    "**b. Every time that we are working with numbers, we should use Statistical Inference.**\n",
    "> FALSE. We can also use Descriptive Statistics and Probability fields of study. Also, if the data refers to the entire population, it doesn't make sense to use Statistical Inference.\n",
    "\n",
    "**c. Descriptive Statistics provides a correct approach to handling a set of values, numerical or not, with the goal of understanding the phenomenon of interest.**\n",
    "> TRUE.\n",
    "\n",
    "**d. Any sample represents, in an adequate manner, a population.**\n",
    "> FALSE. If we don't select a correct sampling approach, it may not be representative of the population.\n",
    "\n",
    "**e. Statistical techniques are not adequate for cases that involve destructive experiments, such as burning down equipment, destruction of proof bodies, etc.**\n",
    "> FALSE. The statistical techniques are especially useful in cases where the object of study is damaged after experimentation, as they minimize the number of units that will be analyzed."
   ]
  },
  {
   "cell_type": "markdown",
   "id": "19cd19a6-2b44-45e1-b76a-7ac9a4d4b802",
   "metadata": {},
   "source": [
    "### Q2. For the situations described below, identify the population and the corresponding sample. Discuss the validity of the statistical inference process for each case.\n",
    "**a. To assess the effectiveness of a vaccination campaign in the State of São Paulo, 200 mothers of newborns, during the first semester of a given year and in a specific maternity hospital in São Paulo, were interviewed regarding the last time they vaccinated their children.**\n",
    "> Population: All mothers of newborns in the state of São Paulo\n",
    ">\n",
    "> Sample: 200 mothers from a single maternity hospital\n",
    ">\n",
    "> Validity: Mothers from different maternity hospitals should have been interviewed to avoid bias related to the chosen maternity hospital in the study. Otherwise, it cannot be claimed that the sample is representative of the population.\n",
    "\n",
    "**b. A blood sample was taken from a patient suspected of having anemia.**\n",
    "> Population: All the blood of the patient\n",
    "> \n",
    "> Sample: A blood sample\n",
    "> \n",
    "> Validity: The sample has the potential to be representative of the population if collected in a sufficient quantity, given that it is homogeneous in the entire body.\n",
    "\n",
    "**c. To assess the viewership of a television program, 563 individuals were interviewed by phone regarding the channel they were tuned to.**\n",
    "> Population: All individuals who watch television in Brazil\n",
    "> \n",
    "> Sample: 563 individuals\n",
    "> \n",
    "> Validity: Requiring that the interviewed people have telephones may be segregating in the sense that it is only selecting people from higher incomes, those who have access to this technology.\n",
    "\n",
    "**d. In order to evaluate the voting intention for the president of Brazilians, 122 people were interviewed in Brasilia.**\n",
    "> Population: All voters in Brazil\n",
    "> \n",
    "> Sample: 122 voters from Brasilia\n",
    "> \n",
    "> Validity: Doesn't seem to be representative, given the low number of interviewees and the bias related to the fact that only one city was included in the survey."
   ]
  },
  {
   "cell_type": "markdown",
   "id": "d1dfdca7-7096-473d-8f9f-9f20e0e73214",
   "metadata": {},
   "source": [
    "### Q3. Discuss, for each of the cases below, the precautions that need to be taken to ensure a good conclusion from the sample.\n",
    "**a. A group of children will be chosen to receive a new meningitis vaccine.**\n",
    "> It is important to ensure that the chosen group is diverse in terms of age, health conditions, and other relevant factors. Random sampling can help avoid bias and ensure a more representative sample.\n",
    "\n",
    "**b. We randomly selected a certain number of housewives to test a new laundry detergent.**\n",
    "> Care should be taken to ensure that the selected housewives represent a variety of demographics, such as age, location, and laundry habits. This helps in generalizing the results to a broader population of potential consumers.\n",
    "\n",
    "**c. A factory wants to know if its cookie production tastes as expected.**\n",
    "> The sampling process should include a variety of batches to account for potential variations in production. Randomly selecting samples from different production runs can help ensure a more accurate assessment of the overall product taste.\n",
    "\n",
    "**d. Popular acceptance of a government project.**\n",
    "> It's crucial to ensure a diverse representation of the population in the sample to avoid bias. Factors such as geographical location, age groups, and socio-economic backgrounds should be considered to capture a more comprehensive view of public opinion."
   ]
  },
  {
   "cell_type": "markdown",
   "id": "0e59764b-ca64-49a1-8131-889dd294f5ac",
   "metadata": {},
   "source": [
    "## Section 1.2 - Data Organization"
   ]
  },
  {
   "cell_type": "markdown",
   "id": "4ef76946-ebcf-4043-bba6-8b79df5f09d1",
   "metadata": {},
   "source": [
    "### Q1. Classify each of the variables below as qualitative (nominal/ordinal) or quantitative (discrete/continuous):\n",
    "**a. Occurrence of prenatal hypertension in pregnant women over 35 years old (yes or no are possible responses to this variable).**\n",
    "> Qualitative nominal.\n",
    "\n",
    "**b. Voting intention for president (possible responses are the names of the candidates, as well as don't know).**\n",
    "> Qualitative nominal.\n",
    "\n",
    "**c. Weight loss of athletes in the São Silvestre Race, in kilograms.**\n",
    "> Quantitative continuous.\n",
    "\n",
    "**d. Intensity of weight loss of marathon runners in the São Silvestre Race (light, moderate, strong).**\n",
    "> Qualitative ordinal.\n",
    "\n",
    "**e. Degree of satisfaction of the Brazilian population with regard to the work of their president (values from 0 to 5, with 0 indicating totally dissatisfied and 5 totally satisfied).**\n",
    "> Qualitative ordinal.\n"
   ]
  },
  {
   "cell_type": "markdown",
   "id": "f08e8e57-8497-4825-8643-e72c63b9f4dc",
   "metadata": {},
   "source": [
    "### Q2. Fifteen patients from an orthopedic clinic were interviewed regarding the expected number of months of physiotherapy, whether there will be (Y) or not (N) sequelae after treatment, and the level of complexity of the performed surgery: high (H), medium (M), or low (L). The data are presented in the table below:"
   ]
  },
  {
   "cell_type": "code",
   "execution_count": 4,
   "id": "a76e41e9-c58a-44df-9978-c4628f06bb72",
   "metadata": {},
   "outputs": [
    {
     "data": {
      "text/html": [
       "<div>\n",
       "<style scoped>\n",
       "    .dataframe tbody tr th:only-of-type {\n",
       "        vertical-align: middle;\n",
       "    }\n",
       "\n",
       "    .dataframe tbody tr th {\n",
       "        vertical-align: top;\n",
       "    }\n",
       "\n",
       "    .dataframe thead th {\n",
       "        text-align: right;\n",
       "    }\n",
       "</style>\n",
       "<table border=\"1\" class=\"dataframe\">\n",
       "  <thead>\n",
       "    <tr style=\"text-align: right;\">\n",
       "      <th></th>\n",
       "      <th>0</th>\n",
       "      <th>1</th>\n",
       "      <th>2</th>\n",
       "      <th>3</th>\n",
       "      <th>4</th>\n",
       "      <th>5</th>\n",
       "      <th>6</th>\n",
       "      <th>7</th>\n",
       "      <th>8</th>\n",
       "      <th>9</th>\n",
       "      <th>10</th>\n",
       "      <th>11</th>\n",
       "      <th>12</th>\n",
       "      <th>13</th>\n",
       "      <th>14</th>\n",
       "    </tr>\n",
       "  </thead>\n",
       "  <tbody>\n",
       "    <tr>\n",
       "      <th>Patitents</th>\n",
       "      <td>1</td>\n",
       "      <td>2</td>\n",
       "      <td>3</td>\n",
       "      <td>4</td>\n",
       "      <td>5</td>\n",
       "      <td>6</td>\n",
       "      <td>7</td>\n",
       "      <td>8</td>\n",
       "      <td>9</td>\n",
       "      <td>10</td>\n",
       "      <td>11</td>\n",
       "      <td>12</td>\n",
       "      <td>13</td>\n",
       "      <td>14</td>\n",
       "      <td>15</td>\n",
       "    </tr>\n",
       "    <tr>\n",
       "      <th>Physiotherapy</th>\n",
       "      <td>7</td>\n",
       "      <td>8</td>\n",
       "      <td>5</td>\n",
       "      <td>6</td>\n",
       "      <td>4</td>\n",
       "      <td>5</td>\n",
       "      <td>7</td>\n",
       "      <td>7</td>\n",
       "      <td>6</td>\n",
       "      <td>8</td>\n",
       "      <td>6</td>\n",
       "      <td>5</td>\n",
       "      <td>5</td>\n",
       "      <td>4</td>\n",
       "      <td>5</td>\n",
       "    </tr>\n",
       "    <tr>\n",
       "      <th>Sequelae</th>\n",
       "      <td>Y</td>\n",
       "      <td>Y</td>\n",
       "      <td>N</td>\n",
       "      <td>N</td>\n",
       "      <td>N</td>\n",
       "      <td>Y</td>\n",
       "      <td>Y</td>\n",
       "      <td>N</td>\n",
       "      <td>N</td>\n",
       "      <td>Y</td>\n",
       "      <td>Y</td>\n",
       "      <td>N</td>\n",
       "      <td>Y</td>\n",
       "      <td>N</td>\n",
       "      <td>N</td>\n",
       "    </tr>\n",
       "    <tr>\n",
       "      <th>Surgery</th>\n",
       "      <td>H</td>\n",
       "      <td>M</td>\n",
       "      <td>H</td>\n",
       "      <td>M</td>\n",
       "      <td>M</td>\n",
       "      <td>L</td>\n",
       "      <td>H</td>\n",
       "      <td>M</td>\n",
       "      <td>L</td>\n",
       "      <td>M</td>\n",
       "      <td>L</td>\n",
       "      <td>L</td>\n",
       "      <td>M</td>\n",
       "      <td>M</td>\n",
       "      <td>H</td>\n",
       "    </tr>\n",
       "  </tbody>\n",
       "</table>\n",
       "</div>"
      ],
      "text/plain": [
       "              0  1  2  3  4  5  6  7  8   9   10  11  12  13  14\n",
       "Patitents      1  2  3  4  5  6  7  8  9  10  11  12  13  14  15\n",
       "Physiotherapy  7  8  5  6  4  5  7  7  6   8   6   5   5   4   5\n",
       "Sequelae       Y  Y  N  N  N  Y  Y  N  N   Y   Y   N   Y   N   N\n",
       "Surgery        H  M  H  M  M  L  H  M  L   M   L   L   M   M   H"
      ]
     },
     "execution_count": 4,
     "metadata": {},
     "output_type": "execute_result"
    }
   ],
   "source": [
    "df = pd.DataFrame({\n",
    "    \"Patitents\": list(range(1, 16)),\n",
    "    \"Physiotherapy\": [7, 8, 5, 6, 4, 5, 7, 7, 6, 8, 6, 5, 5, 4, 5],\n",
    "    \"Sequelae\": ['Y', 'Y', 'N', 'N', 'N', 'Y', 'Y', 'N', 'N', 'Y', 'Y', 'N', 'Y', 'N', 'N'],\n",
    "    \"Surgery\": ['H', 'M', 'H', 'M', 'M', 'L', 'H', 'M', 'L', 'M', 'L', 'L', 'M', 'M', 'H']\n",
    "})\n",
    "\n",
    "df.T.head()"
   ]
  },
  {
   "cell_type": "markdown",
   "id": "7e484b0a-b753-4f2f-8bf7-b1e45912cf91",
   "metadata": {},
   "source": [
    "**a. Classify each of the variables.**\n",
    "> Patients: Qualitative nominal\n",
    "> \n",
    "> Physiotherapy: Quantitative discrete\n",
    "> \n",
    "> Sequelae: Qualitative nominal\n",
    "> \n",
    "> Surgery: Qualitative ordinal"
   ]
  },
  {
   "cell_type": "markdown",
   "id": "93393f86-3535-498c-80c1-cb097392a44d",
   "metadata": {},
   "source": [
    "**b. For each variable, construct the frequency table and create a graphical representation.**"
   ]
  },
  {
   "cell_type": "code",
   "execution_count": 5,
   "id": "3dd88d7d-6ad0-42bd-b68d-0251303b8b78",
   "metadata": {},
   "outputs": [
    {
     "name": "stdout",
     "output_type": "stream",
     "text": [
      "\n",
      "Frequency Table for Physiotherapy:\n",
      "\n"
     ]
    },
    {
     "data": {
      "text/html": [
       "<div>\n",
       "<style scoped>\n",
       "    .dataframe tbody tr th:only-of-type {\n",
       "        vertical-align: middle;\n",
       "    }\n",
       "\n",
       "    .dataframe tbody tr th {\n",
       "        vertical-align: top;\n",
       "    }\n",
       "\n",
       "    .dataframe thead th {\n",
       "        text-align: right;\n",
       "    }\n",
       "</style>\n",
       "<table border=\"1\" class=\"dataframe\">\n",
       "  <thead>\n",
       "    <tr style=\"text-align: right;\">\n",
       "      <th></th>\n",
       "      <th>value</th>\n",
       "      <th>count</th>\n",
       "      <th>freq</th>\n",
       "      <th>freq_acc</th>\n",
       "    </tr>\n",
       "  </thead>\n",
       "  <tbody>\n",
       "    <tr>\n",
       "      <th>0</th>\n",
       "      <td>4</td>\n",
       "      <td>2</td>\n",
       "      <td>0.13</td>\n",
       "      <td>0.13</td>\n",
       "    </tr>\n",
       "    <tr>\n",
       "      <th>1</th>\n",
       "      <td>5</td>\n",
       "      <td>5</td>\n",
       "      <td>0.33</td>\n",
       "      <td>0.46</td>\n",
       "    </tr>\n",
       "    <tr>\n",
       "      <th>2</th>\n",
       "      <td>6</td>\n",
       "      <td>3</td>\n",
       "      <td>0.2</td>\n",
       "      <td>0.66</td>\n",
       "    </tr>\n",
       "    <tr>\n",
       "      <th>3</th>\n",
       "      <td>7</td>\n",
       "      <td>3</td>\n",
       "      <td>0.2</td>\n",
       "      <td>0.86</td>\n",
       "    </tr>\n",
       "    <tr>\n",
       "      <th>4</th>\n",
       "      <td>8</td>\n",
       "      <td>2</td>\n",
       "      <td>0.13</td>\n",
       "      <td>0.99</td>\n",
       "    </tr>\n",
       "  </tbody>\n",
       "</table>\n",
       "</div>"
      ],
      "text/plain": [
       "   value  count  freq freq_acc\n",
       "0      4      2  0.13     0.13\n",
       "1      5      5  0.33     0.46\n",
       "2      6      3   0.2     0.66\n",
       "3      7      3   0.2     0.86\n",
       "4      8      2  0.13     0.99"
      ]
     },
     "metadata": {},
     "output_type": "display_data"
    },
    {
     "data": {
      "image/png": "[encoded data removed]",
      "text/plain": [
       "<Figure size 400x400 with 1 Axes>"
      ]
     },
     "metadata": {},
     "output_type": "display_data"
    },
    {
     "name": "stdout",
     "output_type": "stream",
     "text": [
      "\n",
      "Frequency Table for Sequelae:\n",
      "\n"
     ]
    },
    {
     "data": {
      "text/html": [
       "<div>\n",
       "<style scoped>\n",
       "    .dataframe tbody tr th:only-of-type {\n",
       "        vertical-align: middle;\n",
       "    }\n",
       "\n",
       "    .dataframe tbody tr th {\n",
       "        vertical-align: top;\n",
       "    }\n",
       "\n",
       "    .dataframe thead th {\n",
       "        text-align: right;\n",
       "    }\n",
       "</style>\n",
       "<table border=\"1\" class=\"dataframe\">\n",
       "  <thead>\n",
       "    <tr style=\"text-align: right;\">\n",
       "      <th></th>\n",
       "      <th>value</th>\n",
       "      <th>count</th>\n",
       "      <th>freq</th>\n",
       "      <th>freq_acc</th>\n",
       "    </tr>\n",
       "  </thead>\n",
       "  <tbody>\n",
       "    <tr>\n",
       "      <th>0</th>\n",
       "      <td>N</td>\n",
       "      <td>8</td>\n",
       "      <td>0.53</td>\n",
       "      <td>0.53</td>\n",
       "    </tr>\n",
       "    <tr>\n",
       "      <th>1</th>\n",
       "      <td>Y</td>\n",
       "      <td>7</td>\n",
       "      <td>0.47</td>\n",
       "      <td>1.0</td>\n",
       "    </tr>\n",
       "  </tbody>\n",
       "</table>\n",
       "</div>"
      ],
      "text/plain": [
       "  value  count  freq freq_acc\n",
       "0     N      8  0.53     0.53\n",
       "1     Y      7  0.47      1.0"
      ]
     },
     "metadata": {},
     "output_type": "display_data"
    },
    {
     "data": {
      "image/png": "[encoded data removed]",
      "text/plain": [
       "<Figure size 400x400 with 1 Axes>"
      ]
     },
     "metadata": {},
     "output_type": "display_data"
    },
    {
     "name": "stdout",
     "output_type": "stream",
     "text": [
      "\n",
      "Frequency Table for Surgery:\n",
      "\n"
     ]
    },
    {
     "data": {
      "text/html": [
       "<div>\n",
       "<style scoped>\n",
       "    .dataframe tbody tr th:only-of-type {\n",
       "        vertical-align: middle;\n",
       "    }\n",
       "\n",
       "    .dataframe tbody tr th {\n",
       "        vertical-align: top;\n",
       "    }\n",
       "\n",
       "    .dataframe thead th {\n",
       "        text-align: right;\n",
       "    }\n",
       "</style>\n",
       "<table border=\"1\" class=\"dataframe\">\n",
       "  <thead>\n",
       "    <tr style=\"text-align: right;\">\n",
       "      <th></th>\n",
       "      <th>value</th>\n",
       "      <th>count</th>\n",
       "      <th>freq</th>\n",
       "      <th>freq_acc</th>\n",
       "    </tr>\n",
       "  </thead>\n",
       "  <tbody>\n",
       "    <tr>\n",
       "      <th>0</th>\n",
       "      <td>M</td>\n",
       "      <td>7</td>\n",
       "      <td>0.47</td>\n",
       "      <td>0.47</td>\n",
       "    </tr>\n",
       "    <tr>\n",
       "      <th>1</th>\n",
       "      <td>H</td>\n",
       "      <td>4</td>\n",
       "      <td>0.27</td>\n",
       "      <td>0.74</td>\n",
       "    </tr>\n",
       "    <tr>\n",
       "      <th>2</th>\n",
       "      <td>L</td>\n",
       "      <td>4</td>\n",
       "      <td>0.27</td>\n",
       "      <td>1.01</td>\n",
       "    </tr>\n",
       "  </tbody>\n",
       "</table>\n",
       "</div>"
      ],
      "text/plain": [
       "  value  count  freq freq_acc\n",
       "0     M      7  0.47     0.47\n",
       "1     H      4  0.27     0.74\n",
       "2     L      4  0.27     1.01"
      ]
     },
     "metadata": {},
     "output_type": "display_data"
    },
    {
     "data": {
      "image/png": "[encoded data removed]",
      "text/plain": [
       "<Figure size 400x400 with 1 Axes>"
      ]
     },
     "metadata": {},
     "output_type": "display_data"
    }
   ],
   "source": [
    "for column_name, sort, plot_type in [(\"Physiotherapy\", True, \"hist\"), (\"Sequelae\", False, \"pie\"), (\"Surgery\", False, \"pie\")]:\n",
    "    print(f\"\\nFrequency Table for {column_name}:\\n\")\n",
    "    frequency_table = get_frequency_table(df[column_name], sort)\n",
    "    display(frequency_table)\n",
    "    if plot_type == \"hist\":\n",
    "        plot_histogram(df[column_name])\n",
    "    elif plot_type == \"pie\":\n",
    "        plot_pie(frequency_table, column_name)"
   ]
  },
  {
   "cell_type": "markdown",
   "id": "5cf8c109-6473-413d-b1df-f20ef0a94104",
   "metadata": {},
   "source": [
    "**c. For the group of patients who did not develop sequelae, create a bar chart for the Physiotherapy variable. Do you think this variable behaves differently in this group?**"
   ]
  },
  {
   "cell_type": "code",
   "execution_count": 6,
   "id": "6a4eefce-12a5-4de6-8436-56c1150ead6e",
   "metadata": {},
   "outputs": [
    {
     "data": {
      "text/html": [
       "<div>\n",
       "<style scoped>\n",
       "    .dataframe tbody tr th:only-of-type {\n",
       "        vertical-align: middle;\n",
       "    }\n",
       "\n",
       "    .dataframe tbody tr th {\n",
       "        vertical-align: top;\n",
       "    }\n",
       "\n",
       "    .dataframe thead th {\n",
       "        text-align: right;\n",
       "    }\n",
       "</style>\n",
       "<table border=\"1\" class=\"dataframe\">\n",
       "  <thead>\n",
       "    <tr style=\"text-align: right;\">\n",
       "      <th></th>\n",
       "      <th>value</th>\n",
       "      <th>count</th>\n",
       "      <th>freq</th>\n",
       "      <th>freq_acc</th>\n",
       "    </tr>\n",
       "  </thead>\n",
       "  <tbody>\n",
       "    <tr>\n",
       "      <th>0</th>\n",
       "      <td>5</td>\n",
       "      <td>3</td>\n",
       "      <td>0.38</td>\n",
       "      <td>0.38</td>\n",
       "    </tr>\n",
       "    <tr>\n",
       "      <th>1</th>\n",
       "      <td>6</td>\n",
       "      <td>2</td>\n",
       "      <td>0.25</td>\n",
       "      <td>0.63</td>\n",
       "    </tr>\n",
       "    <tr>\n",
       "      <th>2</th>\n",
       "      <td>4</td>\n",
       "      <td>2</td>\n",
       "      <td>0.25</td>\n",
       "      <td>0.88</td>\n",
       "    </tr>\n",
       "    <tr>\n",
       "      <th>3</th>\n",
       "      <td>7</td>\n",
       "      <td>1</td>\n",
       "      <td>0.12</td>\n",
       "      <td>1.0</td>\n",
       "    </tr>\n",
       "  </tbody>\n",
       "</table>\n",
       "</div>"
      ],
      "text/plain": [
       "   value  count  freq freq_acc\n",
       "0      5      3  0.38     0.38\n",
       "1      6      2  0.25     0.63\n",
       "2      4      2  0.25     0.88\n",
       "3      7      1  0.12      1.0"
      ]
     },
     "metadata": {},
     "output_type": "display_data"
    },
    {
     "data": {
      "image/png": "[encoded data removed]",
      "text/plain": [
       "<Figure size 400x400 with 1 Axes>"
      ]
     },
     "metadata": {},
     "output_type": "display_data"
    }
   ],
   "source": [
    "df = df[df.Sequelae=='N']\n",
    "column_name = 'Physiotherapy'\n",
    "display(get_frequency_table(df[column_name], sort))\n",
    "plot_histogram(df[column_name])"
   ]
  },
  {
   "cell_type": "markdown",
   "id": "ce5a904e-6c8e-4b7f-9985-85bb8647aa6d",
   "metadata": {},
   "source": [
    "> This group will take less months of physiotherapy"
   ]
  },
  {
   "cell_type": "markdown",
   "id": "203c00f2-fc51-4336-9c4f-e943df7da237",
   "metadata": {},
   "source": [
    "### Q3. The data below refer to the salary (in minimum wages) of 20 administrative employees in an industry."
   ]
  },
  {
   "cell_type": "code",
   "execution_count": 7,
   "id": "033519f3-477a-47f6-b722-0e0c65738097",
   "metadata": {},
   "outputs": [
    {
     "data": {
      "text/html": [
       "<div>\n",
       "<style scoped>\n",
       "    .dataframe tbody tr th:only-of-type {\n",
       "        vertical-align: middle;\n",
       "    }\n",
       "\n",
       "    .dataframe tbody tr th {\n",
       "        vertical-align: top;\n",
       "    }\n",
       "\n",
       "    .dataframe thead th {\n",
       "        text-align: right;\n",
       "    }\n",
       "</style>\n",
       "<table border=\"1\" class=\"dataframe\">\n",
       "  <thead>\n",
       "    <tr style=\"text-align: right;\">\n",
       "      <th></th>\n",
       "      <th>0</th>\n",
       "      <th>1</th>\n",
       "      <th>2</th>\n",
       "      <th>3</th>\n",
       "      <th>4</th>\n",
       "      <th>5</th>\n",
       "      <th>6</th>\n",
       "      <th>7</th>\n",
       "      <th>8</th>\n",
       "      <th>9</th>\n",
       "      <th>10</th>\n",
       "      <th>11</th>\n",
       "      <th>12</th>\n",
       "      <th>13</th>\n",
       "      <th>14</th>\n",
       "      <th>15</th>\n",
       "      <th>16</th>\n",
       "      <th>17</th>\n",
       "      <th>18</th>\n",
       "      <th>19</th>\n",
       "    </tr>\n",
       "  </thead>\n",
       "  <tbody>\n",
       "    <tr>\n",
       "      <th>Salary</th>\n",
       "      <td>10.1</td>\n",
       "      <td>7.3</td>\n",
       "      <td>8.5</td>\n",
       "      <td>5.0</td>\n",
       "      <td>4.2</td>\n",
       "      <td>3.1</td>\n",
       "      <td>2.2</td>\n",
       "      <td>9.0</td>\n",
       "      <td>9.4</td>\n",
       "      <td>6.1</td>\n",
       "      <td>3.3</td>\n",
       "      <td>10.7</td>\n",
       "      <td>1.5</td>\n",
       "      <td>8.2</td>\n",
       "      <td>10.0</td>\n",
       "      <td>4.7</td>\n",
       "      <td>3.5</td>\n",
       "      <td>6.5</td>\n",
       "      <td>8.9</td>\n",
       "      <td>6.1</td>\n",
       "    </tr>\n",
       "  </tbody>\n",
       "</table>\n",
       "</div>"
      ],
      "text/plain": [
       "          0    1    2    3    4    5    6    7    8    9    10    11   12  \\\n",
       "Salary  10.1  7.3  8.5  5.0  4.2  3.1  2.2  9.0  9.4  6.1  3.3  10.7  1.5   \n",
       "\n",
       "         13    14   15   16   17   18   19  \n",
       "Salary  8.2  10.0  4.7  3.5  6.5  8.9  6.1  "
      ]
     },
     "execution_count": 7,
     "metadata": {},
     "output_type": "execute_result"
    }
   ],
   "source": [
    "df = pd.DataFrame({\n",
    "    \"Salary\": [10.1, 7.3, 8.5, 5.0, 4.2, 3.1, 2.2, 9.0, 9.4, 6.1, 3.3, 10.7, 1.5, 8.2, 10.0, 4.7, 3.5, 6.5, 8.9, 6.1]\n",
    "})\n",
    "\n",
    "df.T.head()"
   ]
  },
  {
   "cell_type": "markdown",
   "id": "1c9f0218-41e0-4f18-ba16-a63263a71c90",
   "metadata": {},
   "source": [
    "**a. Construct a frequency table, grouping the data in intervals starting from 1 with a range of 2. Choose to include the lower limit and exclude the upper limit.**"
   ]
  },
  {
   "cell_type": "code",
   "execution_count": 8,
   "id": "f4d715ef-7b1b-496e-9fc5-7dd6668e3d75",
   "metadata": {},
   "outputs": [
    {
     "data": {
      "text/html": [
       "<div>\n",
       "<style scoped>\n",
       "    .dataframe tbody tr th:only-of-type {\n",
       "        vertical-align: middle;\n",
       "    }\n",
       "\n",
       "    .dataframe tbody tr th {\n",
       "        vertical-align: top;\n",
       "    }\n",
       "\n",
       "    .dataframe thead th {\n",
       "        text-align: right;\n",
       "    }\n",
       "</style>\n",
       "<table border=\"1\" class=\"dataframe\">\n",
       "  <thead>\n",
       "    <tr style=\"text-align: right;\">\n",
       "      <th></th>\n",
       "      <th>value</th>\n",
       "      <th>count</th>\n",
       "      <th>freq</th>\n",
       "      <th>freq_acc</th>\n",
       "    </tr>\n",
       "  </thead>\n",
       "  <tbody>\n",
       "    <tr>\n",
       "      <th>0</th>\n",
       "      <td>01-03</td>\n",
       "      <td>2</td>\n",
       "      <td>0.1</td>\n",
       "      <td>0.1</td>\n",
       "    </tr>\n",
       "    <tr>\n",
       "      <th>1</th>\n",
       "      <td>03-05</td>\n",
       "      <td>5</td>\n",
       "      <td>0.25</td>\n",
       "      <td>0.35</td>\n",
       "    </tr>\n",
       "    <tr>\n",
       "      <th>2</th>\n",
       "      <td>05-07</td>\n",
       "      <td>4</td>\n",
       "      <td>0.2</td>\n",
       "      <td>0.55</td>\n",
       "    </tr>\n",
       "    <tr>\n",
       "      <th>3</th>\n",
       "      <td>07-09</td>\n",
       "      <td>4</td>\n",
       "      <td>0.2</td>\n",
       "      <td>0.75</td>\n",
       "    </tr>\n",
       "    <tr>\n",
       "      <th>4</th>\n",
       "      <td>09-11</td>\n",
       "      <td>5</td>\n",
       "      <td>0.25</td>\n",
       "      <td>1.0</td>\n",
       "    </tr>\n",
       "  </tbody>\n",
       "</table>\n",
       "</div>"
      ],
      "text/plain": [
       "   value  count  freq freq_acc\n",
       "0  01-03      2   0.1      0.1\n",
       "1  03-05      5  0.25     0.35\n",
       "2  05-07      4   0.2     0.55\n",
       "3  07-09      4   0.2     0.75\n",
       "4  09-11      5  0.25      1.0"
      ]
     },
     "metadata": {},
     "output_type": "display_data"
    }
   ],
   "source": [
    "ranges = []\n",
    "for i in range(1, 13, 2):\n",
    "    ranges.append((i, i+2))\n",
    "\n",
    "df[\"Salary_ranges\"] = [None] * len(df)\n",
    "for i, row in df.iterrows():\n",
    "    for _range in ranges:\n",
    "        if row['Salary'] >= _range[0] and row['Salary'] < _range[1]:\n",
    "            df.at[i, \"Salary_ranges\"] = f\"{_range[0]:02d}-{_range[1]:02d}\"\n",
    "            break\n",
    "\n",
    "frequency_table = get_frequency_table(df[\"Salary_ranges\"], True)\n",
    "display(frequency_table)"
   ]
  },
  {
   "cell_type": "markdown",
   "id": "2ad82dad-40f9-4adb-8006-9329829cd4fa",
   "metadata": {},
   "source": [
    "**b. Construct the histogram and calculate the 1st and 3rd quartiles.**"
   ]
  },
  {
   "cell_type": "code",
   "execution_count": 9,
   "id": "d20e1fbd-e795-4030-97fa-2de78ddfd58c",
   "metadata": {},
   "outputs": [
    {
     "data": {
      "image/png": "[encoded data removed]",
      "text/plain": [
       "<Figure size 400x400 with 1 Axes>"
      ]
     },
     "metadata": {},
     "output_type": "display_data"
    }
   ],
   "source": [
    "plot_histogram(df[\"Salary\"], bin_edges=range(1, 13, 2))"
   ]
  },
  {
   "cell_type": "code",
   "execution_count": 10,
   "id": "ad1c727b-7ff8-4c05-86a0-3b40d91cee8e",
   "metadata": {},
   "outputs": [
    {
     "name": "stdout",
     "output_type": "stream",
     "text": [
      "1st quantile: 4.03, 3rd quantile: 8.93\n"
     ]
    }
   ],
   "source": [
    "q1 = round(np.percentile(df[\"Salary\"], 25), 2)\n",
    "q3 = round(np.percentile(df[\"Salary\"], 75), 2)\n",
    "\n",
    "print(f\"1st quantile: {q1}, 3rd quantile: {q3}\")"
   ]
  },
  {
   "cell_type": "markdown",
   "id": "0b6e6df5-6704-4acc-ab40-bd763e44fe84",
   "metadata": {},
   "source": [
    "**c. Construct the box plot using the raw data.**"
   ]
  },
  {
   "cell_type": "code",
   "execution_count": 11,
   "id": "f1b28895-a946-451e-9292-fc3e1fbdd1a8",
   "metadata": {},
   "outputs": [
    {
     "data": {
      "image/png": "[encoded data removed]",
      "text/plain": [
       "<Figure size 400x400 with 1 Axes>"
      ]
     },
     "metadata": {},
     "output_type": "display_data"
    }
   ],
   "source": [
    "plot_boxplot(df[\"Salary\"])"
   ]
  },
  {
   "cell_type": "markdown",
   "id": "de6d9965-ccb7-45cc-966f-e60b6a5c3fca",
   "metadata": {},
   "source": [
    "### Q4. A group of high school students underwent a math test resulting in:"
   ]
  },
  {
   "cell_type": "code",
   "execution_count": 12,
   "id": "fec9aa2b-7730-4ccc-8204-77f7afad2427",
   "metadata": {},
   "outputs": [
    {
     "data": {
      "text/html": [
       "<div>\n",
       "<style scoped>\n",
       "    .dataframe tbody tr th:only-of-type {\n",
       "        vertical-align: middle;\n",
       "    }\n",
       "\n",
       "    .dataframe tbody tr th {\n",
       "        vertical-align: top;\n",
       "    }\n",
       "\n",
       "    .dataframe thead th {\n",
       "        text-align: right;\n",
       "    }\n",
       "</style>\n",
       "<table border=\"1\" class=\"dataframe\">\n",
       "  <thead>\n",
       "    <tr style=\"text-align: right;\">\n",
       "      <th></th>\n",
       "      <th>Grade</th>\n",
       "      <th>Frequency</th>\n",
       "    </tr>\n",
       "  </thead>\n",
       "  <tbody>\n",
       "    <tr>\n",
       "      <th>0</th>\n",
       "      <td>0-2</td>\n",
       "      <td>14</td>\n",
       "    </tr>\n",
       "    <tr>\n",
       "      <th>1</th>\n",
       "      <td>2-4</td>\n",
       "      <td>28</td>\n",
       "    </tr>\n",
       "    <tr>\n",
       "      <th>2</th>\n",
       "      <td>4-6</td>\n",
       "      <td>27</td>\n",
       "    </tr>\n",
       "    <tr>\n",
       "      <th>3</th>\n",
       "      <td>6-8</td>\n",
       "      <td>11</td>\n",
       "    </tr>\n",
       "    <tr>\n",
       "      <th>4</th>\n",
       "      <td>8-10</td>\n",
       "      <td>4</td>\n",
       "    </tr>\n",
       "  </tbody>\n",
       "</table>\n",
       "</div>"
      ],
      "text/plain": [
       "  Grade  Frequency\n",
       "0   0-2         14\n",
       "1   2-4         28\n",
       "2   4-6         27\n",
       "3   6-8         11\n",
       "4  8-10          4"
      ]
     },
     "execution_count": 12,
     "metadata": {},
     "output_type": "execute_result"
    }
   ],
   "source": [
    "df = pd.DataFrame({\n",
    "    \"Grade\": [\"0-2\", \"2-4\", \"4-6\", \"6-8\", \"8-10\"],\n",
    "    \"Frequency\": [14, 28, 27, 11, 4]\n",
    "})\n",
    "\n",
    "df.head()"
   ]
  },
  {
   "cell_type": "markdown",
   "id": "6da187f5-6e6f-4dce-bfd5-ff01b465af53",
   "metadata": {},
   "source": [
    "**a. Construct the histogram.**"
   ]
  },
  {
   "cell_type": "code",
   "execution_count": null,
   "id": "aacee42a-c341-435b-8469-8c0b20d4372a",
   "metadata": {},
   "outputs": [],
   "source": []
  },
  {
   "cell_type": "markdown",
   "id": "eabcea37-084c-4256-8e04-03749cb6daed",
   "metadata": {},
   "source": [
    "**b. If the passing grade is 5, what percentage of students passed?**"
   ]
  },
  {
   "cell_type": "code",
   "execution_count": null,
   "id": "17ed52bb-ba35-416f-8b8a-4c922a20f82a",
   "metadata": {},
   "outputs": [],
   "source": []
  },
  {
   "cell_type": "markdown",
   "id": "c6b20265-1048-4f85-a9d8-7fb24d0d9131",
   "metadata": {},
   "source": [
    "**c. With the information available, obtain the box plot and indicate any assumptions made.**"
   ]
  },
  {
   "cell_type": "code",
   "execution_count": null,
   "id": "e5d1e945-7a52-4323-b4a4-4d3e45b401bc",
   "metadata": {},
   "outputs": [],
   "source": []
  },
  {
   "cell_type": "markdown",
   "id": "2307c04a-f02b-40c9-b7a5-6d6a5a555cfc",
   "metadata": {},
   "source": [
    "### Q5. A study aims to verify if the problem of malnutrition in adults, measured by weight in kilograms in an agricultural region (Region A), is greater than in an industrial region (Region B). For this purpose, a sample was taken in each region, providing the following frequency table:\n",
    "\n",
    "_{Table in the Book}_\n",
    "\n",
    "**a. Do the presented data suggest that the degree of malnutrition is different in the two regions? (Note that the total number of observations differs in each region).**\n",
    ">\n",
    "\n",
    "**b. Based on the data in the tables, construct a histogram for each region. Make a suitable assumption for the undefined ranges.**\n",
    ">\n",
    "\n",
    "**c. Using the histograms obtained in (b) and appropriate assumptions, obtain the necessary measures to construct a box plot for the weight of adults in each region, addressing the issue in part (a).**\n",
    ">\n",
    "\n",
    "**d. Utilizing the median and quartiles obtained in (c), determine the Bowley's skewness coefficient for the weight of adults in each region. Assess whether these coefficient values align with the patterns observed in (b) and (c).**\n",
    "> \n"
   ]
  },
  {
   "cell_type": "markdown",
   "id": "edd8563b-ef6e-4018-8e25-c02cc40aa3f0",
   "metadata": {},
   "source": [
    "### Q6. In a clinical study, two anesthetics are being evaluated. Each of the drugs Alpha and Beta was administered to different groups of 18 guinea pigs, all of which had approximately the same physical characteristics, including weight and age. The time for the complete effect of the anesthetics was measured in seconds for each animal. The results, after sorting, are presented below.\n",
    "\n",
    "_{Table in the Book}_\n",
    "\n",
    "**a. Construct a box plot for the effect time of each anesthetic and comment on the differences found.**\n",
    ">\n",
    "\n",
    "**b. For the effect time of each medication, determine Bowley's skewness coefficient and comment on the results.**\n",
    ">\n",
    "\n",
    "**c. Compare the performance of the anesthetics using a Q-Q plot.**\n",
    ">"
   ]
  },
  {
   "cell_type": "markdown",
   "id": "790029ae-941c-433c-bf87-711877d9b07c",
   "metadata": {},
   "source": [
    "## Section 1.3 - The Use of Computers in Statistics"
   ]
  },
  {
   "cell_type": "markdown",
   "id": "8e6c319c-29e6-4500-9397-d9be7be69c26",
   "metadata": {},
   "source": [
    "### Q1. Using a spreadsheet or available statistical software and the information from Table 1.1, create a database for the 20 individuals with the entered values, including the initial letters and the variables Gender, Age, Height, and Weight. Print and verify the information.\n",
    ">\n"
   ]
  },
  {
   "cell_type": "markdown",
   "id": "b39e3cd0-a242-469d-9a19-c38daccb98b7",
   "metadata": {},
   "source": [
    "### Q2. Considering the database created in Exercise 1 of this section, construct appropriate graphical representations for the four variables and describe their behaviors.\n",
    ">\n"
   ]
  },
  {
   "cell_type": "markdown",
   "id": "9073b3b9-7c24-43a7-a4b5-4df03a13573d",
   "metadata": {},
   "source": [
    "### Q3. Considering the database created in Exercise 1 of this section, divide age into three categories (under 18 years, age between 18 and 21 inclusive, and over 21 years). Create bar charts for this variable, including all individuals and one for each gender. Interpret the obtained results.\n",
    ">\n"
   ]
  },
  {
   "cell_type": "markdown",
   "id": "734ac4a5-5535-40b7-94ee-e698266d490f",
   "metadata": {},
   "source": [
    "## Section 1.4 - Chapter Exercises"
   ]
  },
  {
   "cell_type": "markdown",
   "id": "b9f0e192-4e0a-474b-a1f0-e2a6f4faa4ac",
   "metadata": {},
   "source": [
    "### Q1. Answer true or false, justifying:\n",
    "**a. Suppose two samples are collected from the same population, with one having a size of 100 and the other 200. Then, the larger sample is more representative of the population.**\n",
    ">\n",
    "\n",
    "**b. Two variables with different values can have identical histograms.**\n",
    "> \n",
    "\n",
    "**c. Two variables with identical box plots cannot have different values.**\n",
    ">\n"
   ]
  },
  {
   "cell_type": "markdown",
   "id": "09955f86-0214-4ecc-bdaa-c4dbc2c94f7b",
   "metadata": {},
   "source": [
    "### Q2. Suppose two companies wish to employ you, and after considering the advantages of each, you will choose the one that pays you better. After some research, you obtain the salary distribution of the companies, given by the plots below. Based on the information from each graph, what would be your decision?\n",
    "\n",
    "_{Plots in the Book}_\n"
   ]
  },
  {
   "cell_type": "markdown",
   "id": "96958ab1-7391-41b0-95ba-3230bf44a399",
   "metadata": {},
   "source": [
    "### Q3. A survey of public transportation users in São Paulo inquired about the different types used for their daily commutes. Among buses, subway, and trains, the number of different transportation modes used was as follows: 2, 3, 2, 1, 2, 1, 2, 1, 2, 3, 1, 1, 1, 2, 2, 3, 1, 1, 1, 1, 2, 1, 1, 2, 2, 1, 2, 1, 2, and 3.\n",
    "**a. Organize a frequency table.**\n",
    ">\n",
    "\n",
    "**b. Create a graphical representation.**\n",
    ">\n",
    "\n",
    "**c. Assuming that this sample represents the behavior of São Paulo users well, do you think the percentage of users using more than one type of transportation is significant?**\n",
    ">"
   ]
  },
  {
   "cell_type": "markdown",
   "id": "90f6005f-fae4-4fb0-b062-55dea1be7ba6",
   "metadata": {},
   "source": [
    "### Q4. The ages of the 20 newcomers in a certain year in the postgraduate journalism program at a university were as follows: 22, 22, 22, 22, 23, 23, 24, 24, 24, 24, 25, 25, 26, 26, 26, 26, 27, 28, 35 and 40.\n",
    "**a. Present the data in a frequency table, including the relative frequency.**\n",
    ">\n",
    "\n",
    "**b. Atypical ages seem to have occurred that year. After their removal from the dataset, redo item (a). Comment on the differences found.**\n",
    "> "
   ]
  },
  {
   "cell_type": "markdown",
   "id": "014b1481-1caa-4fec-a592-536307da024c",
   "metadata": {},
   "source": [
    "### Q5. A new healing medication is being tested, and an experiment is conducted to study the time (in days) for complete closure in incisions from surgery. A sample of thirty guinea pigs provided the values: 15, 17, 16, 15, 17, 14, 17, 16, 16, 17, 15, 18, 14, 17, 15, 14, 15, 16, 17, 18, 18, 17, 15, 16, 14, 18, 18, 16, 15, and 14.\n",
    "**a. Organize a frequency table.**\n",
    ">\n",
    "\n",
    "**b. What percentage of observations are below 16 days?**\n",
    ">\n",
    "\n",
    "**c. Classify as fast the healings equal to or less than 15 days and as slow the others. Make a pie chart indicating the percentages for each classification.**\n",
    ">"
   ]
  },
  {
   "cell_type": "markdown",
   "id": "3e24add3-2eb2-4f7b-8876-8f3a446a2c0f",
   "metadata": {},
   "source": [
    "### Q6. The Health Center in a certain neighborhood keeps a record of the number of children in families that use the Center. The data are as follows: 3, 4, 3, 4, 5, 1, 6, 3, 4, 5, 3, 4, 3, 3, 4, 3, 5, 5, 5, 5, 6, 11, 10, 2, 1, 2, 3, 1, 5 and 2.\n",
    "**a. Organize a frequency table.**\n",
    ">\n",
    "\n",
    "**b. Make a graphical representation.**\n",
    ">\n",
    "\n",
    "**c. Do you identify very discrepant values? What to do with them?**\n",
    ">\n"
   ]
  },
  {
   "cell_type": "markdown",
   "id": "98029e66-fcd4-4799-bbd0-23c29a2049e1",
   "metadata": {},
   "source": [
    "### Q7. A questionnaire was administered to the ten employees in the accounting department of a company, providing the data presented in the table.\n",
    "\n",
    "_{Table in the Book}_\n",
    "\n",
    "**a. Classify each of the variables**\n",
    ">\n",
    "\n",
    "**b. Create a graphical representation for the variable Course.**\n",
    ">\n",
    "\n",
    "**c. Discuss the best way to construct the frequency table for the variable Age. Build a graphical representation.**\n",
    ">\n",
    "\n",
    "**d. Repeat item (c) for the variable Salary.**\n",
    ">\n",
    "\n",
    "**e. Considering only employees with more than three years in the company, describe the behavior of the Salary variable.**\n",
    ">"
   ]
  },
  {
   "cell_type": "markdown",
   "id": "3ebd2d8c-579a-40ef-8f54-01de50d3226c",
   "metadata": {},
   "source": [
    "### Q8. A group of pedagogues studies the influence of changing schools on the performance of elementary school students. As part of the survey, the number of schools attended by participating students was recorded.\n",
    "\n",
    "_{Table in the Book}_\n",
    "\n",
    "**a. What is the percentage of students who attended more than one school?**\n",
    ">\n",
    "\n",
    "**b. Build the bar graph.**\n",
    ">\n",
    "\n",
    "**c. Classify students into two groups according to turnover: high for students with more than 2 schools and low for others. Obtain the frequency table for this variable.**\n",
    ">"
   ]
  },
  {
   "cell_type": "markdown",
   "id": "e0a545cc-ef15-4c69-a628-06033e776ad1",
   "metadata": {},
   "source": [
    "### Q9. Students from the School of Physical Education underwent a endurance test based on the number of kilometers they could run without stopping. The data are presented below.\n",
    "\n",
    "_{Table in the Book}_\n",
    "\n",
    "**a. What is the variable under study?**\n",
    ">\n",
    "\n",
    "**b. Build the histogram.**\n",
    ">\n",
    "\n",
    "**c. Determine the 1st, 2nd, and 3rd quartiles.**\n",
    ">"
   ]
  },
  {
   "cell_type": "markdown",
   "id": "0134cd48-e039-4fa0-873d-d75abbba03f9",
   "metadata": {},
   "source": [
    "### Q10. The time spent using ATMs depends on each user and the operations performed. 26 measurements of this time (in minutes) were collected:\n",
    "\n",
    "_{Table in the Book}_\n",
    "\n",
    "**a. Organize a frequency table without grouping the data.**\n",
    ">\n",
    "\n",
    "**b. Group the data into intervals of size 0.2 starting from 0.8 and obtain a new frequency table.**\n",
    ">\n",
    "\n",
    "**c. Compare the tables obtained in (a) and (b). Comment on the differences.**\n",
    ">\n",
    "\n",
    "**d. Construct the box plot from the raw data table.**\n",
    ">"
   ]
  },
  {
   "cell_type": "markdown",
   "id": "7550590e-d9a0-4bd4-bb03-ead3febea8b7",
   "metadata": {},
   "source": [
    "### Q11. Twenty-one patients from a medical clinic had their plasma potassium levels measured. The results were as follows:\n",
    "\n",
    "_{Table in the Book}_\n",
    "\n",
    "**a. Construct the histogram.**\n",
    ">\n",
    "\n",
    "**b. Determine the 1st, 2nd, and 3rd quartiles.**\n",
    ">\n",
    "\n",
    "**c. What percentage of values are above level 3?**\n",
    ">"
   ]
  },
  {
   "cell_type": "markdown",
   "id": "28db69e5-5554-4908-9c33-03b70cdb9d00",
   "metadata": {},
   "source": [
    "### Q12. Measurements were taken on construction workers regarding the blood hemoglobin level (in grams/cm³):\n",
    "\n",
    "_{Table in the Book}_\n",
    "\n",
    "**a. Organize the data into intervals of size 1 starting from 11.**\n",
    ">\n",
    "\n",
    "**b. Construct the histogram.**\n",
    ">\n",
    "\n",
    "**c. Determine the third quartile and the median.**\n",
    ">\n",
    "\n",
    "**d. Rates below 12 or above 16 are considered abnormal and require medical follow-up. Obtain the frequency table for the variable Medical Follow-up with two options: yes or no.**\n",
    ">\n",
    "\n",
    "**e. Using the raw data table, construct the box plot.**\n",
    ">"
   ]
  },
  {
   "cell_type": "markdown",
   "id": "a7c5feb5-7c55-47fa-85d0-46a414b1ca39",
   "metadata": {},
   "source": [
    "### Q13. The average selling price of a 60-kilogram bag of corn on the Grain Exchange is presented below for the last 40 months, in a certain monetary unit.\n",
    "\n",
    "_{Table in the Book}_\n",
    "\n",
    "**a. Organize the data into intervals of size 0.4 starting from 6.**\n",
    ">\n",
    "\n",
    "**b. Construct the histogram.**\n",
    ">\n",
    "\n",
    "**c. Calculate the second quartile.**\n",
    ">\n",
    "\n",
    "**d. Construct the box plot using the raw data.**\n",
    ">"
   ]
  },
  {
   "cell_type": "markdown",
   "id": "188ce19a-3701-4aa5-8461-20c420df60c7",
   "metadata": {},
   "source": [
    "### Q14. The number of goals scored in a championship of the São Paulo Football Federation by the 20 participating clubs in their games is a variable with the following values:\n",
    "\n",
    "_{Table in the Book}_\n",
    "\n",
    "**a. Classify the variable. Do you think it is reasonable to construct a frequency table according to the given classification?**\n",
    ">\n",
    "\n",
    "**b. Construct a frequency table grouping the observations in intervals of length 10 starting from 20 (do not forget to clearly indicate the intervals).**\n",
    ">\n",
    "\n",
    "**c. Obtain the histogram.**\n",
    ">\n",
    "\n",
    "**d. Using the histogram, what percentage of the clubs scored more than 38 goals?**\n",
    ">\n"
   ]
  },
  {
   "cell_type": "markdown",
   "id": "71ac52fd-1b6b-4a49-847d-8a82be3b42fd",
   "metadata": {},
   "source": [
    "### Q15. The table below presents the relative frequencies of height ranges (in cm) for a sample of 100 12-year-old children.\n",
    "\n",
    "_{Table in the Book}_\n",
    "\n",
    "**a. Construct the histogram.**\n",
    ">\n",
    "\n",
    "**b. Making appropriate assumptions, obtain the box plot.**\n",
    ">\n",
    "\n",
    "**c. Wishing to separate the top 15%, what would be the cutoff point?**\n",
    ">"
   ]
  },
  {
   "cell_type": "markdown",
   "id": "5c47320c-eb38-46ce-8362-047a267ced59",
   "metadata": {},
   "source": [
    "### Q16. Germination rate is one of the main scientific factors to define seed quality. It is determined in a scientific experiment conducted by the manufacturer and regulated by supervisory bodies. A manufacturer claims that the germination rate of its corn seeds is 85%. To verify this claim, a farmers' cooperative randomly selected 100 samples, each of size 100, and recorded the germination percentage in each sample.\n",
    "\n",
    "_{Table in the Book}_\n",
    "\n",
    "**a. Create a graphical representation of the table above.**\n",
    ">\n",
    "\n",
    "**b. With the appropriate assumptions, construct the box plot.**\n",
    ">\n",
    "\n",
    "**c. Comment on the manufacturer's claim.**\n",
    ">\n"
   ]
  },
  {
   "cell_type": "markdown",
   "id": "a6f0771f-5483-4f5d-bfc2-8519c1e886b5",
   "metadata": {},
   "source": [
    "### Q17. A new feed was provided to recently weaned pigs, and its efficiency is to be evaluated. The traditional feed resulted in a weight gain of around 3.5 kg in one month. Below are the data related to the gain, in kilograms, for this new feed, applied for one month to 200 animals under the specified conditions.\n",
    "\n",
    "_{Table in the Book}_\n",
    "\n",
    "**a. Construct the histogram.**\n",
    ">\n",
    "\n",
    "**b. Determine the 1st, 2nd, and 3rd quartiles.**\n",
    ">\n",
    "\n",
    "**c. Do you think the new feed is more efficient than the traditional one? Justify.**\n",
    ">"
   ]
  },
  {
   "cell_type": "markdown",
   "id": "55a571f6-f4d3-4020-bc20-e7cf5391287e",
   "metadata": {},
   "source": [
    "### Q18. In a study on workforce turnover in the industry, the number of jobs in the last 3 years was recorded for skilled and unskilled workers.\n",
    "\n",
    "_{Table in the Book}_\n",
    "\n",
    "**a. Construct the corresponding bar chart for each table using percentages on the ordinate axis.**\n",
    ">\n",
    "\n",
    "**b. Combine the information from both tables into one and obtain a bar chart of workforce turnover in the industry (without differentiating by specialization).**\n",
    ">\n",
    "\n",
    "**c. Do you think skilled workers change jobs less? Justify.**\n",
    ">"
   ]
  },
  {
   "cell_type": "markdown",
   "id": "7b0fb377-ae05-4258-b609-f67d5a6deaa2",
   "metadata": {},
   "source": [
    "### Q19. As part of a medical assessment at a certain university, the heart rate of first-year students was measured. The data is presented below.\n",
    "\n",
    "_{Table in the Book}_\n",
    "\n",
    "**a. Obtain the histogram.**\n",
    ">\n",
    "\n",
    "**b. Heart rates below 62 or above 92 require medical attention. What percentage of students are in these conditions?**\n",
    ">\n",
    "\n",
    "**c. A frequency around 72 beats per minute is considered standard. Do you think these students generally fit into this category?**\n",
    ">\n"
   ]
  },
  {
   "cell_type": "code",
   "execution_count": null,
   "id": "fb84deae-a5d6-45ec-896a-465004788504",
   "metadata": {},
   "outputs": [],
   "source": []
  },
  {
   "cell_type": "code",
   "execution_count": null,
   "id": "a460665f-f8b8-4f3b-96f9-4ee5e9ac2d54",
   "metadata": {},
   "outputs": [],
   "source": [
    "\n"
   ]
  }
 ],
 "metadata": {
  "kernelspec": {
   "display_name": "Python 3 (ipykernel)",
   "language": "python",
   "name": "python3"
  },
  "language_info": {
   "codemirror_mode": {
    "name": "ipython",
    "version": 3
   },
   "file_extension": ".py",
   "mimetype": "text/x-python",
   "name": "python",
   "nbconvert_exporter": "python",
   "pygments_lexer": "ipython3",
   "version": "3.9.6"
  }
 },
 "nbformat": 4,
 "nbformat_minor": 5
}
